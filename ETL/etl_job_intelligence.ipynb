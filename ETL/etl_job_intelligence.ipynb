{
 "cells": [
  {
   "cell_type": "code",
   "execution_count": 1,
   "id": "ed9b4b9c-318e-49fd-9250-eaeb7a5f2871",
   "metadata": {},
   "outputs": [
    {
     "name": "stdout",
     "output_type": "stream",
     "text": [
      "Fetched 94 jobs from API.\n"
     ]
    }
   ],
   "source": [
    "import requests\n",
    "import pandas as pd\n",
    "\n",
    "# RemoteOk data\n",
    "def fetch_remoteok_jobs():\n",
    "    url = \"https://remoteok.com/api\"\n",
    "    headers = {'User-Agent': 'Mozilla/5.0'}\n",
    "    response = requests.get(url, headers=headers)\n",
    "    jobs_json = response.json()\n",
    "\n",
    "    # Skip the first item as it is metadata\n",
    "    jobs = jobs_json[1:]\n",
    "\n",
    "    job_list = []\n",
    "    for job in jobs:\n",
    "        job_list.append({\n",
    "            \"title\": job.get(\"position\"),\n",
    "            \"company\": job.get(\"company\"),\n",
    "            \"location\": job.get(\"location\"),\n",
    "            \"tags\": \", \".join(job.get(\"tags\", [])),\n",
    "            \"date_posted\": job.get(\"date\"),\n",
    "            \"salary\": job.get(\"salary\"),\n",
    "            \"url\": job.get(\"url\")\n",
    "        })\n",
    "\n",
    "    df = pd.DataFrame(job_list)\n",
    "    df.to_csv(\"data/remoteok_jobs.csv\", index=False)\n",
    "    print(f\"Fetched {len(df)} jobs from API.\")\n",
    "    return df\n",
    "\n",
    "df_jobs = fetch_remoteok_jobs()"
   ]
  },
  {
   "cell_type": "code",
   "execution_count": 2,
   "id": "718334de-b3ab-4f12-994f-46e1932420a4",
   "metadata": {},
   "outputs": [
    {
     "name": "stdout",
     "output_type": "stream",
     "text": [
      "Fetched 75 jobs from LinkedIN (RapidAPI).\n"
     ]
    }
   ],
   "source": [
    "import requests\n",
    "import pandas as pd\n",
    "\n",
    "def scrape_linkedin_jobs():\n",
    "    url = \"https://linkedin-job-search-api.p.rapidapi.com/active-jb-7d?limit=10&offset=0&title_filter=%22Data%20Engineer%22&location_filter=%22United%20States%22%20OR%20%22United%20Kingdom%22\"\n",
    "\n",
    "    headers = {\n",
    "        \"X-RapidAPI-Key\": \"28ee349fb7mshe0f8b3bc34d8332p1299efjsnbaa7eb44c993\",  # Replace with your real key\n",
    "        \"X-RapidAPI-Host\": \"linkedin-job-search-api.p.rapidapi.com\"\n",
    "    }\n",
    "\n",
    "    querystring = {\n",
    "        \"limit\": \"75\",\n",
    "        \"offset\": \"0\",\n",
    "        \"title_filter\": \"Data Engineer\",\n",
    "        \"location_filter\": \"United States\" \n",
    "    }\n",
    "\n",
    "    response = requests.get(url, headers=headers, params=querystring)\n",
    "\n",
    "    try:\n",
    "        job_data = response.json()\n",
    "    except Exception as e:\n",
    "        print(\"Failed to decode JSON:\", e)\n",
    "        print(\"Raw response:\", response.text[:500])\n",
    "        return pd.DataFrame()\n",
    "\n",
    "    if not job_data:\n",
    "        print(\"No jobs found.\")\n",
    "        return pd.DataFrame()\n",
    "\n",
    "    jobs = []\n",
    "    for job in job_data:\n",
    "        jobs.append({\n",
    "            \"title\": job.get(\"title\"),\n",
    "            \"company\": job.get(\"organization\"),\n",
    "            \"location\": job.get(\"locations_raw\", [{}])[0].get(\"address\", {}).get(\"addressLocality\", \"\"),\n",
    "            \"tags\": \"\",\n",
    "            \"date_posted\": job.get(\"date_posted\"),\n",
    "            \"source\": \"LinkedIn (RapidAPI)\"\n",
    "        })\n",
    "\n",
    "    df = pd.DataFrame(jobs)\n",
    "    df.to_csv(\"data/linkedin_jobs.csv\", index=False)\n",
    "    print(f\"Fetched {len(df)} jobs from LinkedIN (RapidAPI).\")\n",
    "    return df\n",
    "\n",
    "if __name__ == \"__main__\":\n",
    "    scrape_linkedin_jobs()\n"
   ]
  },
  {
   "cell_type": "code",
   "execution_count": 3,
   "id": "a16f110c-f7ce-4a91-925d-4abceb1bed5f",
   "metadata": {},
   "outputs": [
    {
     "name": "stdout",
     "output_type": "stream",
     "text": [
      "Combined dataset saved: 169 rows.\n"
     ]
    }
   ],
   "source": [
    "import pandas as pd\n",
    "\n",
    "# Load your job datasets\n",
    "remoteok = pd.read_csv(\"remoteok_jobs.csv\")\n",
    "linkedin = pd.read_csv(\"linkedin_jobs.csv\")\n",
    "\n",
    "# Add missing 'source' column to RemoteOK\n",
    "remoteok[\"source\"] = \"RemoteOK\"\n",
    "\n",
    "# Standardize columns\n",
    "required_cols = [\"title\", \"company\", \"location\", \"tags\", \"date_posted\", \"source\"]\n",
    "remoteok = remoteok[required_cols]\n",
    "linkedin = linkedin[required_cols]\n",
    "\n",
    "# Combine\n",
    "combined = pd.concat([remoteok, linkedin], ignore_index=True)\n",
    "combined.to_csv(\"data/combined_raw_jobs.csv\", index=False)\n",
    "print(f\"Combined dataset saved: {len(combined)} rows.\")\n"
   ]
  },
  {
   "cell_type": "code",
   "execution_count": 5,
   "id": "96f2894f-a24c-475e-9dbb-1153bffeb7ac",
   "metadata": {},
   "outputs": [
    {
     "name": "stdout",
     "output_type": "stream",
     "text": [
      "Cleaned dataset saved to data/clean_jobs.csv with 169 rows.\n"
     ]
    }
   ],
   "source": [
    "import pandas as pd\n",
    "from pandas import Timestamp\n",
    "\n",
    "def clean_job_data(input_path=\"data/combined_raw_jobs.csv\", output_path=\"data/clean_jobs.csv\"):\n",
    "    df = pd.read_csv(input_path)\n",
    "\n",
    "    # Drop jobs with no title or company\n",
    "    df = df.dropna(subset=[\"title\", \"company\"])\n",
    "\n",
    "    # Clean column names\n",
    "    df.columns = df.columns.str.strip().str.lower().str.replace(\" \", \"_\")\n",
    "\n",
    "    # Convert tags to list\n",
    "    df[\"tags\"] = df[\"tags\"].fillna(\"\").apply(lambda x: x.split(\",\") if isinstance(x, str) else [])\n",
    "\n",
    "    # Split by source\n",
    "    remoteok_df = df[df[\"source\"] == \"RemoteOK\"].copy()\n",
    "    linkedin_df = df[df[\"source\"].str.contains(\"LinkedIn\", case=False, na=False)].copy()\n",
    "\n",
    "    # --- Parse date_posted independently ---\n",
    "    remoteok_df[\"date_posted\"] = pd.to_datetime(remoteok_df[\"date_posted\"].astype(str), errors=\"coerce\")\n",
    "    linkedin_df[\"date_posted\"] = pd.to_datetime(linkedin_df[\"date_posted\"].astype(str), errors=\"coerce\")\n",
    "\n",
    "    # Drop rows only if parsing truly failed in each subset\n",
    "    remoteok_df = remoteok_df.dropna(subset=[\"date_posted\"])\n",
    "    linkedin_df = linkedin_df.dropna(subset=[\"date_posted\"])\n",
    "\n",
    "    # Combine\n",
    "    combined = pd.concat([remoteok_df, linkedin_df], ignore_index=True)\n",
    "\n",
    "    # Ensure all datetime entries are UTC and tz-aware\n",
    "    combined[\"date_posted\"] = pd.to_datetime(combined[\"date_posted\"], utc=True)\n",
    "\n",
    "    # Now subtract using same timezone\n",
    "    today = pd.Timestamp.now(tz=\"UTC\")\n",
    "    combined[\"days_since_posted\"] = (today - combined[\"date_posted\"]).dt.days\n",
    "\n",
    "    # Save final version\n",
    "    combined.to_csv(output_path, index=False)\n",
    "    print(f\"Cleaned dataset saved to {output_path} with {len(combined)} rows.\")\n",
    "\n",
    "    return combined\n",
    "\n",
    "if __name__ == \"__main__\":\n",
    "    clean_job_data()\n"
   ]
  }
 ],
 "metadata": {
  "kernelspec": {
   "display_name": "Python 3 (ipykernel)",
   "language": "python",
   "name": "python3"
  },
  "language_info": {
   "codemirror_mode": {
    "name": "ipython",
    "version": 3
   },
   "file_extension": ".py",
   "mimetype": "text/x-python",
   "name": "python",
   "nbconvert_exporter": "python",
   "pygments_lexer": "ipython3",
   "version": "3.11.11"
  }
 },
 "nbformat": 4,
 "nbformat_minor": 5
}
